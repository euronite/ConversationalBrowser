{
 "cells": [
  {
   "cell_type": "code",
   "execution_count": 2,
   "metadata": {},
   "outputs": [],
   "source": [
    "import pandas as pd"
   ]
  },
  {
   "cell_type": "code",
   "execution_count": 3,
   "metadata": {},
   "outputs": [],
   "source": [
    "def read_in_data():\n",
    "    header_names = [\"call\", \"conversation_topic\", \"person_and_type\",\"start\", \"end\"]\n",
    "    return pd.read_csv('../data/genderedCorpus.csv', sep=',', names=header_names)\n",
    "\n",
    "def get_conversation_topic_df(df, topic):\n",
    "    \"\"\"\n",
    "    Gets the rows that match the conversation topic specified.\n",
    "    \"\"\"\n",
    "    return df.loc[df['conversation_topic'] == topic]\n",
    "\n",
    "def remove_conversation_topic_df(df, topic):\n",
    "    \"\"\"\n",
    "    Gets the rows that do not contain a specific topic. Can pass a string containing topics to remove, delimited by a comma\n",
    "    \"\"\"\n",
    "    for individual_topic in topic.split(\",\"):\n",
    "        df = df.loc[df['conversation_topic'] != individual_topic]\n",
    "    return df\n",
    "\n",
    "def get_call_df(df, call_id):\n",
    "    \"\"\"\n",
    "    This gets the rows containing the call_id. \n",
    "    \"\"\"\n",
    "    return df.loc[df['call'] == call_id] \n",
    "\n",
    "def get_all_call_ids(df):\n",
    "    \"\"\"\n",
    "    Returns an array of the names of the call ids\n",
    "    \"\"\"\n",
    "    return df.call.unique()\n",
    "\n",
    "def get_all_conversation_topics(df):\n",
    "    \"\"\"\n",
    "    Returns array of all the names of the conversation topics\n",
    "    \"\"\"\n",
    "    return df.conversation_topic.unique()\n",
    "gender_types = {\"caller_F receiver_M\": 0, \"caller_F receiver_F\": 0, \"caller_M receiver_F\": 0, \"caller_M receiver_M\": 0}\n",
    "cue_types = {\"laughter\": 0, \"silence\": 0, \"filler\": 0, \"bc\": 0}\n",
    "df = read_in_data()\n"
   ]
  },
  {
   "cell_type": "code",
   "execution_count": 4,
   "metadata": {},
   "outputs": [],
   "source": [
    "def occurrence_of_each_event(df, types):\n",
    "    \"\"\"\n",
    "    This takes in a dataframe and produces the total number of each conversation cue occurred.\n",
    "    \"\"\"\n",
    "    occurrences = df['person_and_type'].value_counts()\n",
    "    for occ in occurrences.index:\n",
    "        for s_type in types:\n",
    "            if s_type in occ:\n",
    "                types[s_type] += occurrences[occ]\n",
    "    return types\n",
    "\n",
    "def total_time_of_each_event(df, types):\n",
    "    \"\"\"\n",
    "    This calculates the total time of each cue in the dataset, returning a dictionary of each cue\n",
    "    \"\"\"\n",
    "    for cue in types:\n",
    "        new_df = df[df[\"person_and_type\"].str.contains(cue)] # for each cue, get df of all rows containing cue\n",
    "        types[cue] = (new_df[\"end\"] - new_df[\"start\"]).sum(axis=0) # end time - start time and sum them all\n",
    "    return types\n",
    "\n",
    "def mean_time_of_each_event(df, types):\n",
    "    \"\"\"\n",
    "    Gets the mean of each conversation cue. Returns a dictionary.\n",
    "    \"\"\"\n",
    "    types = {\"laughter\": 0, \"silence\": 0, \"filler\": 0, \"bc\": 0}\n",
    "    for cue in types:\n",
    "        new_df = df[df[\"person_and_type\"].str.contains(cue)]\n",
    "        types[cue] = (new_df[\"end\"] - new_df[\"start\"]).mean(axis=0)\n",
    "    return types"
   ]
  },
  {
   "cell_type": "code",
   "execution_count": 6,
   "metadata": {},
   "outputs": [],
   "source": [
    "occ_count = occurrence_of_each_event(df, cue_types.copy())\n",
    "time_total = total_time_of_each_event(df, cue_types.copy())\n",
    "mean_time = mean_time_of_each_event(df, cue_types.copy())\n",
    "overlap_occurrencesrences = occurrence_of_each_event(df, gender_types.copy())\n",
    "overlap_total_time = total_time_of_each_event(df, gender_types.copy())\n",
    "overlap_mean_time = mean_time_of_each_event(df, gender_types.copy())"
   ]
  },
  {
   "cell_type": "code",
   "execution_count": null,
   "metadata": {},
   "outputs": [],
   "source": []
  }
 ],
 "metadata": {
  "kernelspec": {
   "display_name": "Python 3",
   "language": "python",
   "name": "python3"
  },
  "language_info": {
   "codemirror_mode": {
    "name": "ipython",
    "version": 3
   },
   "file_extension": ".py",
   "mimetype": "text/x-python",
   "name": "python",
   "nbconvert_exporter": "python",
   "pygments_lexer": "ipython3",
   "version": "3.8.5"
  }
 },
 "nbformat": 4,
 "nbformat_minor": 4
}
