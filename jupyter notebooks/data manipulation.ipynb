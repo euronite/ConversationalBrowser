{
 "cells": [
  {
   "cell_type": "code",
   "execution_count": 1,
   "metadata": {},
   "outputs": [],
   "source": [
    "import pandas as pd\n",
    "import datetime\n",
    "import itertools\n",
    "import matplotlib.pyplot as plt"
   ]
  },
  {
   "cell_type": "code",
   "execution_count": 2,
   "metadata": {},
   "outputs": [],
   "source": [
    "header_names = [\n",
    "    \"call\",\n",
    "    \"conversation_topic\",\n",
    "    \"person_and_type\",\n",
    "    \"start\",\n",
    "    \"end\",\n",
    "    \"caller\",\n",
    "    \"receiver\",\n",
    "]\n",
    "gender_and_position = {\"caller_F\", \"receiver_F\", \"caller_M\", \"receiver_M\"}\n",
    "gender_types = dict.fromkeys(gender_and_position, 0)\n",
    "cue_types = {\"laughter\": 0, \"silence\": 0, \"filler\": 0, \"bc\": 0}\n",
    "\n",
    "\n",
    "def read_in_data(location):\n",
    "    return pd.read_csv(location, sep=\",\", names=header_names)\n",
    "\n",
    "\n",
    "def receiver_and_caller_column(df):\n",
    "    \"\"\"\n",
    "    Takes in the dataframe, header names and gender/position.\n",
    "    This then looks at person_and_type column and fills the caller and receiver column with the appropriate value\n",
    "    \"\"\"\n",
    "    call_id = get_all_call_ids(df)\n",
    "    for call in call_id:\n",
    "        temp_df = get_call_df(df, call)  # get dataframe of only one call id\n",
    "        for gp in gender_and_position:\n",
    "            if temp_df[\"person_and_type\"].str.contains(gp).any():\n",
    "                if \"receiver\" in gp:\n",
    "                    df.loc[df.call == call, \"receiver\"] = gp\n",
    "                else:\n",
    "                    df.loc[df.call == call, \"caller\"] = gp\n",
    "    return df\n",
    "\n",
    "\n",
    "def get_conversation_topic_df(df, topic):\n",
    "    \"\"\"\n",
    "    Gets the rows that match the conversation topic specified.\n",
    "    \"\"\"\n",
    "    return df.loc[df[\"conversation_topic\"] == topic]\n",
    "\n",
    "\n",
    "def remove_conversation_topic_df(df, topic):\n",
    "    \"\"\"\n",
    "    Gets the rows that do not contain a specific topic. Can pass a string containing topics to remove.\n",
    "    Delimited by a comma\n",
    "    \"\"\"\n",
    "    for individual_topic in topic.split(\",\"):\n",
    "        df = df.loc[df[\"conversation_topic\"] != individual_topic]\n",
    "    return df\n",
    "\n",
    "\n",
    "def get_call_df(df, call_id):\n",
    "    \"\"\"\n",
    "    This gets the rows containing the call_id.\n",
    "    \"\"\"\n",
    "    return df.loc[df[\"call\"] == call_id]\n",
    "\n",
    "\n",
    "def get_all_call_ids(df):\n",
    "    \"\"\"\n",
    "    Returns an array of the names of the call ids\n",
    "    \"\"\"\n",
    "    return df.call.unique()\n",
    "\n",
    "\n",
    "def get_all_conversation_topics(df):\n",
    "    \"\"\"\n",
    "    Returns array of all the names of the conversation topics\n",
    "    \"\"\"\n",
    "    return df.conversation_topic.unique()\n",
    "\n",
    "\n",
    "def get_conversation_only_df(df, non_verbal_speech):\n",
    "    \"\"\"\n",
    "    Return df with non-verbal speech removed\n",
    "    \"\"\"\n",
    "    for cue in non_verbal_speech:\n",
    "        df = df[~df[\"person_and_type\"].str.contains(cue)]\n",
    "    return df\n",
    "\n",
    "\n",
    "def get_rows_by_caller_and_receiver(df, caller, receiver):\n",
    "    \"\"\"\n",
    "    Specify the caller and receiver string and returns the dataframe with those rows.\n",
    "    \"\"\"\n",
    "    return df.loc[(df[\"caller\"] == caller) & (df[\"receiver\"] == receiver)]\n",
    "\n",
    "\n",
    "def convert_to_minutes_and_seconds(seconds):\n",
    "    return datetime.timedelta(seconds=seconds)\n",
    "\n",
    "\n",
    "def get_permutations_of_gender_and_position():\n",
    "    \"\"\"\n",
    "    Takes in the gender_and_position var and returns the possible combinations of size 2\n",
    "    \"\"\"\n",
    "    permutations = list(itertools.permutations(gender_and_position, 2))\n",
    "    final_permutation = []\n",
    "    for perm in permutations:\n",
    "        if \"caller\" in perm[0]:\n",
    "            if \"receiver\" in perm[1]:\n",
    "                final_permutation.append(perm)\n",
    "    return [\" \".join(i) for i in final_permutation]"
   ]
  },
  {
   "cell_type": "code",
   "execution_count": 3,
   "metadata": {},
   "outputs": [],
   "source": [
    "def occurrence_of_each_event(df, types):\n",
    "    \"\"\"\n",
    "    This takes in a dataframe and produces the total number of each conversation cue occurred.\n",
    "    \"\"\"\n",
    "    occurrences = df[\"person_and_type\"].value_counts()\n",
    "    for occurrence_name in occurrences.index:\n",
    "        for cue_type in types:\n",
    "            if occurrence_name.count(cue_type) > 1:\n",
    "                types[cue_type] += occurrences[occurrence_name] * 2\n",
    "            elif occurrence_name.count(cue_type) == 1:\n",
    "                types[cue_type] += occurrences[occurrence_name]\n",
    "    return types\n",
    "\n",
    "\n",
    "def occurrence_of_event(df, cue):\n",
    "    # dataframe input should be an individual call.\n",
    "    # returns a list of two vals. number of times caller did a cue and number of times the receiver did the cue\n",
    "    if \"M\" in df[\"receiver\"].iloc[0]:\n",
    "        receiver_search = f\"{cue}_rM\"\n",
    "    else:\n",
    "        receiver_search = f\"{cue}_rF\"\n",
    "    if \"M\" in df[\"caller\"].iloc[0]:\n",
    "        caller_search = f\"{cue}_cM\"\n",
    "    else:\n",
    "        caller_search = f\"{cue}_cF\"\n",
    "    caller_cue_count = df.person_and_type.str.count(caller_search).sum()\n",
    "    receiver_cue_count = df.person_and_type.str.count(receiver_search).sum()\n",
    "    return [caller_cue_count, receiver_cue_count]\n",
    "\n",
    "\n",
    "def total_time_of_event(df, cue):\n",
    "    # dataframe input should be an individual call.\n",
    "    # returns a list of two vals. Length of time caller did cue and length of time the receiver did the cue\n",
    "    if \"M\" in df[\"receiver\"].iloc[0]:\n",
    "        receiver_search = f\"{cue}_rM\"\n",
    "    else:\n",
    "        receiver_search = f\"{cue}_rF\"\n",
    "    if \"M\" in df[\"caller\"].iloc[0]:\n",
    "        caller_search = f\"{cue}_cM\"\n",
    "    else:\n",
    "        caller_search = f\"{cue}_cF\"\n",
    "    caller_cue_time = df[df[\"person_and_type\"].str.contains(caller_search)]\n",
    "    caller_cue_time = (caller_cue_time[\"end\"] - caller_cue_time[\"start\"]).sum(axis=0) \n",
    "    receiver_cue_time = df[df[\"person_and_type\"].str.contains(receiver_search)]\n",
    "    receiver_cue_time = (receiver_cue_time[\"end\"] - receiver_cue_time[\"start\"]).sum(axis=0) \n",
    "    return [caller_cue_time, receiver_cue_time]\n",
    "\n",
    "\n",
    "def total_time_of_each_event(df, types):\n",
    "    \"\"\"\n",
    "    This calculates the total time of each cue in the dataset, returning a dictionary of each cue\n",
    "    \"\"\"\n",
    "    for cue in types:\n",
    "        new_df = df[\n",
    "            df[\"person_and_type\"].str.contains(cue)\n",
    "        ]  # for each cue, get df of all rows containing cue\n",
    "        types[cue] = (new_df[\"end\"] - new_df[\"start\"]).sum(\n",
    "            axis=0\n",
    "        )  # end time - start time and sum them all\n",
    "    return types\n",
    "\n",
    "\n",
    "def mean_time_of_each_event(df, types):\n",
    "    \"\"\"\n",
    "    Gets the mean of each conversation cue. Returns a dictionary.\n",
    "    \"\"\"\n",
    "    for cue in types:\n",
    "        new_df = df[df[\"person_and_type\"].str.contains(cue)]\n",
    "        if len(new_df) > 0:\n",
    "            types[cue] = (new_df[\"end\"] - new_df[\"start\"]).mean(axis=0)\n",
    "    return types\n",
    "\n",
    "\n",
    "def mean_call_length(df):\n",
    "    total = 0\n",
    "    ids = get_all_call_ids(df)\n",
    "    for call in ids:\n",
    "        new_df = df[df[\"call\"].str.match(call)]\n",
    "        total += new_df.iloc[-1][\"end\"]\n",
    "    return total / len(ids)\n",
    "\n",
    "\n",
    "def individual_call_length(df):\n",
    "    \"\"\"\n",
    "    Gets the the call length of each conversation and returns a dictionary of call id and length of time\n",
    "    \"\"\"\n",
    "    total = {}\n",
    "    ids = get_all_call_ids(df)\n",
    "    for call in ids:\n",
    "        temp_df = df[df[\"call\"].str.match(call)]  # gets the df that matches call id\n",
    "        total[call] = temp_df.iloc[-1][\"end\"]\n",
    "    return total\n",
    "\n",
    "\n",
    "def total_overlap_occurrence(df):\n",
    "    \"\"\"\n",
    "    Returns the number of times there was two people talking over on another\n",
    "    \"\"\"\n",
    "    permutations = get_permutations_of_gender_and_position()\n",
    "    return df[df[\"person_and_type\"].isin(permutations)].shape[0]\n",
    "\n",
    "\n",
    "def total_overlap_time(df):\n",
    "    permutations = get_permutations_of_gender_and_position()\n",
    "    new_df = df[df[\"person_and_type\"].isin(permutations)]\n",
    "    total = (new_df[\"end\"] - new_df[\"start\"]).sum(\n",
    "        axis=0\n",
    "    )  # end time - start time and sum them all\n",
    "    return total\n",
    "\n",
    "\n",
    "def mean_overlap_time(df):\n",
    "    \"\"\"\n",
    "    Calculates the overlap mean time.\n",
    "    \"\"\"\n",
    "    permutations = get_permutations_of_gender_and_position()\n",
    "    new_df = df[df[\"person_and_type\"].isin(permutations)]\n",
    "    return (new_df[\"end\"] - new_df[\"start\"]).mean(axis=0)\n"
   ]
  },
  {
   "cell_type": "code",
   "execution_count": 4,
   "metadata": {},
   "outputs": [],
   "source": [
    "df = read_in_data(\"../data/genderedCorpus.csv\")\n",
    "df = receiver_and_caller_column(df)\n",
    "occ_count = occurrence_of_each_event(df, cue_types.copy())\n",
    "time_total = total_time_of_each_event(df, cue_types.copy())\n",
    "mean_time = mean_time_of_each_event(df, cue_types.copy())\n",
    "id_call_length = individual_call_length(df)\n",
    "call_time_total = convert_to_minutes_and_seconds(sum(id_call_length.values()))\n",
    "total_overlap_occurrences = total_overlap_occurrence(df)\n",
    "total_overlap_duration = total_overlap_time(df)\n",
    "mean_overlap_duration = mean_overlap_time(df)\n",
    "m_m_calls = get_all_call_ids(get_rows_by_caller_and_receiver(df, \"caller_M\", \"receiver_M\"))"
   ]
  },
  {
   "cell_type": "code",
   "execution_count": 5,
   "metadata": {},
   "outputs": [
    {
     "data": {
      "image/png": "[encoded data removed]",
      "text/plain": [
       "<Figure size 432x288 with 1 Axes>"
      ]
     },
     "metadata": {
      "needs_background": "light"
     },
     "output_type": "display_data"
    }
   ],
   "source": [
    "# Visualisation- Laughter\n",
    "all_ids = get_all_call_ids(df)\n",
    "laughter_events_list = []\n",
    "for call in all_ids:\n",
    "    laughter_events_list.append(occurrence_of_event(get_call_df(df, call), \"laughter\"))\n",
    "laughter_events_list = sorted([val for sublist in laughter_events_list for val in sublist])\n",
    "x = list(range(1, 121))\n",
    "plt.bar(x, laughter_events_list)\n",
    "plt.title('Laughter Events')\n",
    "plt.xlabel('Caller')\n",
    "plt.ylabel('Total Occurrences')\n",
    "plt.show()"
   ]
  },
  {
   "cell_type": "code",
   "execution_count": 6,
   "metadata": {},
   "outputs": [
    {
     "data": {
      "image/png": "[encoded data removed]",
      "text/plain": [
       "<Figure size 432x288 with 1 Axes>"
      ]
     },
     "metadata": {
      "needs_background": "light"
     },
     "output_type": "display_data"
    }
   ],
   "source": [
    "# Visualisation- filler\n",
    "all_ids = get_all_call_ids(df)\n",
    "filler_events_list = []\n",
    "for call in all_ids:\n",
    "    filler_events_list.append(occurrence_of_event(get_call_df(df, call), \"filler\"))\n",
    "filler_events_list = sorted([val for sublist in filler_events_list for val in sublist])\n",
    "x = list(range(1, 121))\n",
    "plt.bar(x, filler_events_list)\n",
    "plt.title('Filler Events')\n",
    "plt.xlabel('Caller')\n",
    "plt.ylabel('Total Occurrences')\n",
    "plt.show()"
   ]
  },
  {
   "cell_type": "code",
   "execution_count": 7,
   "metadata": {},
   "outputs": [
    {
     "data": {
      "image/png": "[encoded data removed]",
      "text/plain": [
       "<Figure size 432x288 with 1 Axes>"
      ]
     },
     "metadata": {
      "needs_background": "light"
     },
     "output_type": "display_data"
    }
   ],
   "source": [
    "# Visualisation- backchat\n",
    "all_ids = get_all_call_ids(df)\n",
    "bc_events_list = []\n",
    "for call in all_ids:\n",
    "    bc_events_list.append(occurrence_of_event(get_call_df(df, call), \"bc\"))\n",
    "bc_events_list = sorted([val for sublist in bc_events_list for val in sublist])\n",
    "x = list(range(1, 121))\n",
    "plt.bar(x, bc_events_list)\n",
    "plt.title('Backchat Events')\n",
    "plt.xlabel('Caller')\n",
    "plt.ylabel('Total Occurrences')\n",
    "plt.show()"
   ]
  },
  {
   "cell_type": "code",
   "execution_count": 8,
   "metadata": {},
   "outputs": [
    {
     "data": {
      "image/png": "[encoded data removed]",
      "text/plain": [
       "<Figure size 432x288 with 1 Axes>"
      ]
     },
     "metadata": {
      "needs_background": "light"
     },
     "output_type": "display_data"
    },
    {
     "data": {
      "image/png": "[encoded data removed]",
      "text/plain": [
       "<Figure size 432x288 with 1 Axes>"
      ]
     },
     "metadata": {
      "needs_background": "light"
     },
     "output_type": "display_data"
    }
   ],
   "source": [
    "# Visualisation of laughter length duration\n",
    "all_ids = get_all_call_ids(df)\n",
    "laughter_list = []\n",
    "for call in all_ids:\n",
    "    laughter_list.append(total_time_of_event(get_call_df(df, call), \"laughter\"))\n",
    "laughter_list = sorted([val for sublist in laughter_list for val in sublist])\n",
    "x = list(range(1, 121))\n",
    "plt.bar(x, laughter_list)\n",
    "plt.title('Laughter Event Duration')\n",
    "plt.xlabel('Caller')\n",
    "plt.ylabel('Total Time (s)')\n",
    "plt.show()\n",
    "\n",
    "plt.hist(laughter_list, 50)\n",
    "plt.title('Laughter Event Duration')\n",
    "plt.xlabel('Duration Bins')\n",
    "plt.ylabel('Total Occurrence')\n",
    "plt.show()"
   ]
  },
  {
   "cell_type": "code",
   "execution_count": 9,
   "metadata": {},
   "outputs": [
    {
     "data": {
      "image/png": "[encoded data removed]",
      "text/plain": [
       "<Figure size 432x288 with 1 Axes>"
      ]
     },
     "metadata": {
      "needs_background": "light"
     },
     "output_type": "display_data"
    },
    {
     "data": {
      "image/png": "[encoded data removed]",
      "text/plain": [
       "<Figure size 432x288 with 1 Axes>"
      ]
     },
     "metadata": {
      "needs_background": "light"
     },
     "output_type": "display_data"
    }
   ],
   "source": [
    "# Visualisation of backchat length duration\n",
    "all_ids = get_all_call_ids(df)\n",
    "backchat_list = []\n",
    "for call in all_ids:\n",
    "    backchat_list.append(total_time_of_event(get_call_df(df, call), \"bc\"))\n",
    "backchat_list = sorted([val for sublist in backchat_list for val in sublist])\n",
    "x = list(range(1, 121))\n",
    "plt.bar(x, backchat_list)\n",
    "plt.title('Backchat Event Duration')\n",
    "plt.xlabel('Caller')\n",
    "plt.ylabel('Total Time (s)')\n",
    "plt.show()\n",
    "\n",
    "plt.hist(backchat_list, 10)\n",
    "plt.title('Backchat Event Duration')\n",
    "plt.xlabel('Duration Bins')\n",
    "plt.ylabel('Total Occurrence')\n",
    "plt.show()"
   ]
  },
  {
   "cell_type": "code",
   "execution_count": 10,
   "metadata": {},
   "outputs": [
    {
     "data": {
      "image/png": "[encoded data removed]",
      "text/plain": [
       "<Figure size 432x288 with 1 Axes>"
      ]
     },
     "metadata": {
      "needs_background": "light"
     },
     "output_type": "display_data"
    },
    {
     "data": {
      "image/png": "[encoded data removed]",
      "text/plain": [
       "<Figure size 432x288 with 1 Axes>"
      ]
     },
     "metadata": {
      "needs_background": "light"
     },
     "output_type": "display_data"
    }
   ],
   "source": [
    "# Visualisation of filler length duration\n",
    "all_ids = get_all_call_ids(df)\n",
    "filler_list = []\n",
    "for call in all_ids:\n",
    "    filler_list.append(total_time_of_event(get_call_df(df, call), \"bc\"))\n",
    "filler_list = sorted([val for sublist in filler_list for val in sublist])\n",
    "x = list(range(1, 121))\n",
    "plt.bar(x, filler_list)\n",
    "plt.title('Filler Event Duration')\n",
    "plt.xlabel('Caller')\n",
    "plt.ylabel('Total Time (s)')\n",
    "plt.show()\n",
    "\n",
    "plt.hist(filler_list, 10)\n",
    "plt.title('Filler Event Duration')\n",
    "plt.xlabel('Duration Bins')\n",
    "plt.ylabel('Total Occurrence')\n",
    "plt.show()"
   ]
  },
  {
   "cell_type": "code",
   "execution_count": 44,
   "metadata": {},
   "outputs": [
    {
     "data": {
      "image/png": "[encoded data removed]",
      "text/plain": [
       "<Figure size 432x288 with 1 Axes>"
      ]
     },
     "metadata": {
      "needs_background": "light"
     },
     "output_type": "display_data"
    }
   ],
   "source": [
    "# Visualisation- cue by call ID\n",
    "cue = \"silence\"\n",
    "#cue = \"laughter\"\n",
    "#cue = \"bc\"\n",
    "#cue = \"filler\"\n",
    "all_ids = get_all_call_ids(df)\n",
    "laughter_events_list = []\n",
    "for call in all_ids:\n",
    "    laughter_events_list.append(occurrence_of_each_event(get_call_df(df, call), {cue:0}))\n",
    "laughter_events_list = [val[cue] for val in laughter_events_list]\n",
    "\n",
    "x = list(range(1, 61))\n",
    "plt.bar(x, laughter_events_list)\n",
    "plt.title(f'{cue.capitalize()} Events by call')\n",
    "plt.xlabel('Call Number')\n",
    "plt.ylabel('Total Occurrences')\n",
    "plt.show()"
   ]
  },
  {
   "cell_type": "code",
   "execution_count": null,
   "metadata": {},
   "outputs": [],
   "source": []
  }
 ],
 "metadata": {
  "kernelspec": {
   "display_name": "Python 3",
   "language": "python",
   "name": "python3"
  },
  "language_info": {
   "codemirror_mode": {
    "name": "ipython",
    "version": 3
   },
   "file_extension": ".py",
   "mimetype": "text/x-python",
   "name": "python",
   "nbconvert_exporter": "python",
   "pygments_lexer": "ipython3",
   "version": "3.8.6"
  }
 },
 "nbformat": 4,
 "nbformat_minor": 4
}
