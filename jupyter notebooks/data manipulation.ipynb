{
 "cells": [
  {
   "cell_type": "code",
   "execution_count": 101,
   "metadata": {},
   "outputs": [],
   "source": [
    "import pandas as pd"
   ]
  },
  {
   "cell_type": "code",
   "execution_count": 102,
   "metadata": {},
   "outputs": [],
   "source": [
    "def read_in_data(header_names):\n",
    "    return pd.read_csv('../data/genderedCorpus.csv', sep=',', names=header_names)\n",
    "\n",
    "def reciever_and_caller_column(df, header_names, gender_and_position):\n",
    "    call_id = get_all_call_ids(df)\n",
    "    new_df = pd.DataFrame(columns=header_names)\n",
    "    for call in call_id:\n",
    "        temp_df = get_call_df(df, call)\n",
    "        for gp in gender_and_position:\n",
    "            if temp_df['person_and_type'].str.contains(gp).any():\n",
    "                if \"receiver\" in gp:\n",
    "                    temp_df[\"receiver\"].fillna(gp, inplace=True)\n",
    "                else:\n",
    "                    temp_df[\"caller\"].fillna(gp, inplace=True)\n",
    "                \n",
    "        new_df = pd.concat([new_df, temp_df])\n",
    "    return new_df\n",
    "\n",
    "        \n",
    "        \n",
    "\n",
    "def get_conversation_topic_df(df, topic):\n",
    "    \"\"\"\n",
    "    Gets the rows that match the conversation topic specified.\n",
    "    \"\"\"\n",
    "    return df.loc[df['conversation_topic'] == topic]\n",
    "\n",
    "def remove_conversation_topic_df(df, topic):\n",
    "    \"\"\"\n",
    "    Gets the rows that do not contain a specific topic. Can pass a string containing topics to remove, delimited by a comma\n",
    "    \"\"\"\n",
    "    for individual_topic in topic.split(\",\"):\n",
    "        df = df.loc[df['conversation_topic'] != individual_topic]\n",
    "    return df\n",
    "\n",
    "def get_call_df(df, call_id):\n",
    "    \"\"\"\n",
    "    This gets the rows containing the call_id. \n",
    "    \"\"\"\n",
    "    return df.loc[df['call'] == call_id] \n",
    "\n",
    "def get_all_call_ids(df):\n",
    "    \"\"\"\n",
    "    Returns an array of the names of the call ids\n",
    "    \"\"\"\n",
    "    return df.call.unique()\n",
    "\n",
    "def get_all_conversation_topics(df):\n",
    "    \"\"\"\n",
    "    Returns array of all the names of the conversation topics\n",
    "    \"\"\"\n",
    "    return df.conversation_topic.unique()\n",
    "header_names = [\"call\", \"conversation_topic\", \"person_and_type\",\"start\", \"end\", \"caller\", \"receiver\"]\n",
    "gender_and_position = {\"caller_F\", \"receiver_F\", \"caller_M\", \"receiver_M\"} \n",
    "gender_types = dict.fromkeys(gender_and_position,0)\n",
    "cue_types = {\"laughter\": 0, \"silence\": 0, \"filler\": 0, \"bc\": 0}\n",
    "df = read_in_data(header_names)"
   ]
  },
  {
   "cell_type": "code",
   "execution_count": 103,
   "metadata": {},
   "outputs": [],
   "source": [
    "def occurrence_of_each_event(df, types):\n",
    "    \"\"\"\n",
    "    This takes in a dataframe and produces the total number of each conversation cue occurred.\n",
    "    \"\"\"\n",
    "    occurrences = df['person_and_type'].value_counts()\n",
    "    for occurrence_name in occurrences.index:\n",
    "        for cue_type in types:            \n",
    "            if occurrence_name.count(cue_type) > 1:\n",
    "                types[cue_type] += (occurrences[occurrence_name] * 2)\n",
    "            elif occurrence_name.count(cue_type) == 1:\n",
    "                types[cue_type] += occurrences[occurrence_name]\n",
    "    return types\n",
    "\n",
    "def total_time_of_each_event(df, types):\n",
    "    \"\"\"\n",
    "    This calculates the total time of each cue in the dataset, returning a dictionary of each cue\n",
    "    \"\"\"\n",
    "    for cue in types:\n",
    "        new_df = df[df[\"person_and_type\"].str.contains(cue)] # for each cue, get df of all rows containing cue\n",
    "        \n",
    "        types[cue] = (new_df[\"end\"] - new_df[\"start\"]).sum(axis=0) # end time - start time and sum them all\n",
    "    return types\n",
    "\n",
    "def mean_time_of_each_event(df, types):\n",
    "    \"\"\"\n",
    "    Gets the mean of each conversation cue. Returns a dictionary.\n",
    "    \"\"\"\n",
    "    for cue in types:\n",
    "        new_df = df[df[\"person_and_type\"].str.contains(cue)]\n",
    "        types[cue] = (new_df[\"end\"] - new_df[\"start\"]).mean(axis=0)\n",
    "    return types\n",
    "\n",
    "def mean_call_length(df):\n",
    "    total = 0\n",
    "    ids = get_all_call_ids(df)\n",
    "    for call in ids:\n",
    "        new_df = df[df[\"call\"].str.match(call)]\n",
    "        total += new_df.iloc[-1][\"end\"]\n",
    "    return total / len(ids)"
   ]
  },
  {
   "cell_type": "code",
   "execution_count": 104,
   "metadata": {},
   "outputs": [
    {
     "name": "stderr",
     "output_type": "stream",
     "text": [
      "/usr/local/lib/python3.8/dist-packages/pandas/core/series.py:4517: SettingWithCopyWarning: \n",
      "A value is trying to be set on a copy of a slice from a DataFrame\n",
      "\n",
      "See the caveats in the documentation: https://pandas.pydata.org/pandas-docs/stable/user_guide/indexing.html#returning-a-view-versus-a-copy\n",
      "  return super().fillna(\n"
     ]
    },
    {
     "name": "stdout",
     "output_type": "stream",
     "text": [
      "      call conversation_topic         person_and_type    start      end  \\\n",
      "0      F01              other                 silence    0.000    1.273   \n",
      "1      F01              other              receiver_M    1.273    1.581   \n",
      "2      F01              other                 silence    1.581    1.975   \n",
      "3      F01              other                caller_F    1.975    2.479   \n",
      "4      F01              other                 silence    2.479    3.534   \n",
      "...    ...                ...                     ...      ...      ...   \n",
      "29854  F60              other    caller_F laughter_rF  339.157  339.622   \n",
      "29855  F60              other             laughter_cF  339.622  340.007   \n",
      "29856  F60              other  laughter_cF receiver_F  340.007  340.340   \n",
      "29857  F60              other                caller_F  340.340  341.091   \n",
      "29858  F60                end                     end  341.091  344.127   \n",
      "\n",
      "         caller    receiver  \n",
      "0      caller_F  receiver_M  \n",
      "1      caller_F  receiver_M  \n",
      "2      caller_F  receiver_M  \n",
      "3      caller_F  receiver_M  \n",
      "4      caller_F  receiver_M  \n",
      "...         ...         ...  \n",
      "29854  caller_F  receiver_F  \n",
      "29855  caller_F  receiver_F  \n",
      "29856  caller_F  receiver_F  \n",
      "29857  caller_F  receiver_F  \n",
      "29858  caller_F  receiver_F  \n",
      "\n",
      "[29859 rows x 7 columns]\n"
     ]
    }
   ],
   "source": [
    "occ_count = occurrence_of_each_event(df, cue_types.copy())\n",
    "time_total = total_time_of_each_event(df, cue_types.copy())\n",
    "mean_time = mean_time_of_each_event(df, cue_types.copy())\n",
    "overlap_occurrences = occurrence_of_each_event(df, gender_types.copy())\n",
    "overlap_total_time = total_time_of_each_event(df, gender_types.copy())\n",
    "overlap_mean_time = mean_time_of_each_event(df, gender_types.copy())\n",
    "df = reciever_and_caller_column(df, header_names, gender_and_position)\n",
    "print(df)"
   ]
  },
  {
   "cell_type": "code",
   "execution_count": null,
   "metadata": {},
   "outputs": [],
   "source": []
  },
  {
   "cell_type": "code",
   "execution_count": null,
   "metadata": {},
   "outputs": [],
   "source": []
  },
  {
   "cell_type": "code",
   "execution_count": null,
   "metadata": {},
   "outputs": [],
   "source": []
  }
 ],
 "metadata": {
  "kernelspec": {
   "display_name": "Python 3",
   "language": "python",
   "name": "python3"
  },
  "language_info": {
   "codemirror_mode": {
    "name": "ipython",
    "version": 3
   },
   "file_extension": ".py",
   "mimetype": "text/x-python",
   "name": "python",
   "nbconvert_exporter": "python",
   "pygments_lexer": "ipython3",
   "version": "3.8.5"
  }
 },
 "nbformat": 4,
 "nbformat_minor": 4
}
